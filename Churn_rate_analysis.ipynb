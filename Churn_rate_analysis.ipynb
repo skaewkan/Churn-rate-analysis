{
 "cells": [
  {
   "cell_type": "code",
   "execution_count": 2,
   "id": "dd348817-0aa3-40f0-81e9-18b0b2e9a7b2",
   "metadata": {},
   "outputs": [
    {
     "name": "stdout",
     "output_type": "stream",
     "text": [
      "[('PhoneService', 0.17508922975924363), ('Contract', 0.20098665550238531), ('MultipleLines', 0.3844131634885288), ('DeviceProtection', 0.40372396663363774), ('Partner', 0.4526539726065454), ('TechSupport', 0.46989558664691966), ('gender', 0.5460579370078414), ('OnlineBackup', 0.6497131152242142), ('StreamingMovies', 0.6834715476530313), ('StreamingTV', 0.8407687498857044), ('OnlineSecurity', 0.8539744927886259), ('PaymentMethod', 0.8953021208901424), ('InternetService', 0.9058021178645241), ('Dependents', 0.9566020565403854), ('PaperlessBilling', 0.9940527463246381)]\n",
      "{'SeniorCitizen': -0.004742956805168825, 'tenure': 0.00859972335744912, 'MonthlyCharges': 0.014968711828272602, 'TotalCharges': 0.014263858000488844}\n"
     ]
    }
   ],
   "source": [
    "\n",
    "\"\"\"\n",
    "This Python code performs a customer churn analysis by examining the relationships between various customer attributes and churn. \n",
    "It first loads the dataset and identifies categorical and numerical columns, excluding 'customerID' and 'Churn'. \n",
    "The 'Churn' column is then transformed into a binary variable. \n",
    "For categorical variables, chi-square tests are conducted to determine the association with churn, with p-values stored and sorted for significance.\n",
    "For numerical variables, correlation coefficients with churn are calculated. \n",
    "The results are printed, providing insights into which variables have significant associations or correlations with customer churn, aiding \n",
    "in understanding the factors driving churn.\n",
    "\"\"\"\n",
    "import pandas as pd\n",
    "from scipy.stats import chi2_contingency\n",
    "\n",
    "df = pd.read_csv('C:/Users/14157/Downloads/customer_churn_data.csv')\n",
    "categorical_columns = df.select_dtypes(include=['object']).columns\n",
    "categorical_columns = [col for col in categorical_columns if col not in ['customerID', 'Churn']]\n",
    "variable_columns = df.select_dtypes(include=['number']).columns\n",
    "variable_columns = [col for col in variable_columns if col not in ['customerID', 'Churn']]\n",
    "df['Churn'] = df['Churn'].apply(lambda x: 1 if x == 'Yes' else 0)\n",
    "\n",
    "chi2_results = {}\n",
    "#Chi-Squared testing for objects\n",
    "for col in categorical_columns:\n",
    "    contingency_table = pd.crosstab(df[col], df['Churn'])\n",
    "    chi2, p, _, _ = chi2_contingency(contingency_table)\n",
    "    chi2_results[col] = p\n",
    "\n",
    "chi2_results_sorted = sorted(chi2_results.items(), key=lambda x: x[1])\n",
    "print(chi2_results_sorted)\n",
    "\n",
    "#Correlation testing for int and float columns\n",
    "correlation_results = {}\n",
    "for col in variable_columns:\n",
    "    cor_value = df['Churn'].corr(df[col])\n",
    "    correlation_results[col] = cor_value\n",
    "    \n",
    "print(correlation_results)\n",
    "    \n",
    "\n",
    "\n",
    "    \n",
    "    "
   ]
  },
  {
   "cell_type": "code",
   "execution_count": null,
   "id": "e97b6c96-75b0-4c2d-8038-ed629cc572ca",
   "metadata": {},
   "outputs": [],
   "source": []
  }
 ],
 "metadata": {
  "kernelspec": {
   "display_name": "Python 3 (ipykernel)",
   "language": "python",
   "name": "python3"
  },
  "language_info": {
   "codemirror_mode": {
    "name": "ipython",
    "version": 3
   },
   "file_extension": ".py",
   "mimetype": "text/x-python",
   "name": "python",
   "nbconvert_exporter": "python",
   "pygments_lexer": "ipython3",
   "version": "3.11.7"
  }
 },
 "nbformat": 4,
 "nbformat_minor": 5
}
